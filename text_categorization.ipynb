{
 "cells": [
  {
   "cell_type": "code",
   "execution_count": null,
   "id": "b9e0462e",
   "metadata": {},
   "outputs": [],
   "source": [
    "!pip install fuzzywuzzy"
   ]
  },
  {
   "cell_type": "code",
   "execution_count": null,
   "id": "8e883759",
   "metadata": {},
   "outputs": [],
   "source": [
    "import pandas as pd\n",
    "import re\n",
    "import math\n",
    "from unidecode import unidecode\n",
    "from fuzzywuzzy import fuzz\n",
    "from fuzzywuzzy import process"
   ]
  },
  {
   "cell_type": "code",
   "execution_count": null,
   "id": "f242323f",
   "metadata": {},
   "outputs": [],
   "source": [
    "# reading dataframe\n",
    "\n",
    "df = pd.read_excel(\"file.xlsx\")"
   ]
  },
  {
   "cell_type": "code",
   "execution_count": null,
   "id": "181f625f",
   "metadata": {},
   "outputs": [],
   "source": [
    "# taking column which interests us\n",
    "df['pierwsza_kolumna']"
   ]
  },
  {
   "cell_type": "code",
   "execution_count": null,
   "id": "1d5c2291",
   "metadata": {},
   "outputs": [],
   "source": [
    "#creating lists from this column\n",
    "\n",
    "column = list(df['pierwsza_kolumna'])\n"
   ]
  },
  {
   "cell_type": "code",
   "execution_count": null,
   "id": "d99822e1",
   "metadata": {},
   "outputs": [],
   "source": [
    "#printing type of the values in the list\n",
    "\n",
    "for i in column:\n",
    "    print(type(i))"
   ]
  },
  {
   "cell_type": "code",
   "execution_count": null,
   "id": "56feba5a",
   "metadata": {},
   "outputs": [],
   "source": [
    "# printing elements from list\n",
    "\n",
    "\n",
    "for i in column:\n",
    "    print(i)"
   ]
  },
  {
   "cell_type": "code",
   "execution_count": null,
   "id": "99fd5eb8",
   "metadata": {},
   "outputs": [],
   "source": [
    "# when there is Nan value we add \"Brak_wartosci\" and where is different value we convert it to a string\n",
    "\n",
    "\n",
    "column_str = []\n",
    "\n",
    "for i in column:\n",
    "    if type(i) is float:\n",
    "        column_str.append(\"BRAK_WARTOSCI\")\n",
    "    else:\n",
    "        column_str.append(str(i))"
   ]
  },
  {
   "cell_type": "code",
   "execution_count": null,
   "id": "bfdf11f7",
   "metadata": {},
   "outputs": [],
   "source": [
    "# we change spaces for commas\n",
    "\n",
    "new_list = []\n",
    "\n",
    "\n",
    "for item in column_str:\n",
    "\n",
    "    updated_string = re.sub(r'\\s+', ',', item)\n",
    "    new_list.append(updated_string)\n",
    "    \n",
    "new_list"
   ]
  },
  {
   "cell_type": "code",
   "execution_count": null,
   "id": "433d6d7c",
   "metadata": {},
   "outputs": [],
   "source": [
    "# we delete additional commas\n",
    "\n",
    "poj_przecinki = []\n",
    "\n",
    "\n",
    "for item in new_list:\n",
    "\n",
    "    updated_item = re.sub(r',+', ',', item)\n",
    "    poj_przecinki.append(updated_item)\n",
    "    \n",
    "poj_przecinki"
   ]
  },
  {
   "cell_type": "code",
   "execution_count": null,
   "id": "b5017d8b",
   "metadata": {},
   "outputs": [],
   "source": [
    "\n",
    "# creating dictionary to add value and how many it occured\n",
    "\n",
    "\n",
    "value_counts = {}\n",
    "\n",
    "\n",
    "for item in poj_przecinki:\n",
    "    \n",
    "    # if the value is not nan we do it\n",
    "    if isinstance(item, str) and item != 'nan':\n",
    "        \n",
    "        # we strip, make the value lower and unicode those value in ASCII mode to be able to compare in the best way values to each other\n",
    "\n",
    "        values = [unidecode(value.strip().lower()) for value in item.split(',')]\n",
    "        \n",
    "        \n",
    "        # we calculate how many times the value has occured\n",
    "        for value in values:\n",
    "            value_counts[value] = value_counts.get(value, 0) + 1\n",
    "\n",
    "\n",
    "for value, count in value_counts.items():\n",
    "    print(f\"{value}: {count}\")\n"
   ]
  },
  {
   "cell_type": "code",
   "execution_count": null,
   "id": "92737366",
   "metadata": {},
   "outputs": [],
   "source": [
    "wszystkie_wartosci = []\n",
    "\n",
    "\n",
    "# creating list of every value which occured in answers\n",
    "for value, count in value_counts.items():\n",
    "    wszystkie_wartosci.append(value)\n",
    "wszystkie_wartosci"
   ]
  },
  {
   "cell_type": "code",
   "execution_count": null,
   "id": "3c0ac112",
   "metadata": {},
   "outputs": [],
   "source": [
    "# create list which contains the list for the answers of each respondent\n",
    "\n",
    "\n",
    "nazwy_badanych = []\n",
    "\n",
    "\n",
    "\n",
    "for item in poj_przecinki:\n",
    "    if isinstance(item, str):\n",
    "        # we change the name of answers for each respondent to be compatible with all the values which respondents made\n",
    "        values = [unidecode(value.strip().lower()) for value in item.split(',')]\n",
    "        \n",
    "        nazwy_badanych.append(values)\n",
    "\n",
    "# this is a list from the all answers for each respondent, the names are cleaned to be compatible with all the values\n",
    "len(nazwy_badanych)"
   ]
  },
  {
   "cell_type": "code",
   "execution_count": null,
   "id": "d2c43a95",
   "metadata": {},
   "outputs": [],
   "source": [
    "nazwy_badanych"
   ]
  },
  {
   "cell_type": "code",
   "execution_count": null,
   "id": "23552c29",
   "metadata": {},
   "outputs": [],
   "source": [
    "\n",
    "# we group similar names and add it to the list similar_names\n",
    "\n",
    "threshold = 70\n",
    "\n",
    "similar_names = []\n",
    "\n",
    "\n",
    "# we loop from all the values which occured in answers\n",
    "for name in wszystkie_wartosci:\n",
    "    \n",
    "    # we compare the specific name and assign it to a correct group of similar names\n",
    "    \n",
    "    best_match = process.extractOne(name, similar_names)\n",
    "    \n",
    "    if best_match is not None and best_match[1] > threshold:\n",
    "        \n",
    "        similar_names[similar_names.index(best_match[0])].append(name)\n",
    "        \n",
    "    else:\n",
    "        similar_names.append([name])\n",
    "        \n",
    "for group in similar_names:\n",
    "    print(group)"
   ]
  },
  {
   "cell_type": "code",
   "execution_count": null,
   "id": "4e00eeaa",
   "metadata": {},
   "outputs": [],
   "source": [
    "similar_names"
   ]
  },
  {
   "cell_type": "code",
   "execution_count": null,
   "id": "df928293",
   "metadata": {},
   "outputs": [],
   "source": [
    "dict_of_similar_names = {\n",
    "    \"you need to create dictionary in python from the similar group words manually based on similar_names list\"\n",
    "}"
   ]
  },
  {
   "cell_type": "code",
   "execution_count": null,
   "id": "d813e2eb",
   "metadata": {},
   "outputs": [],
   "source": [
    "\n",
    "\n",
    "# creating two lists of keys and values from dictionary of specific names\n",
    "keys = []\n",
    "values = []\n",
    "\n",
    "for key, value in dict_of_similar_names.items():\n",
    "    keys.append(key)\n",
    "    values.append(value)\n",
    "    "
   ]
  },
  {
   "cell_type": "code",
   "execution_count": null,
   "id": "5de331f4",
   "metadata": {},
   "outputs": [],
   "source": [
    "values"
   ]
  },
  {
   "cell_type": "code",
   "execution_count": null,
   "id": "788c272c",
   "metadata": {},
   "outputs": [],
   "source": [
    "# we create an empty dataframe where the columns are the keys (the name of each group) to which we will assign the answers from each respondent\n",
    "\n",
    "\n",
    "df_to_modify = pd.DataFrame(columns=keys, index=range(len(nazwy_badanych)))\n",
    "df_to_modify"
   ]
  },
  {
   "cell_type": "code",
   "execution_count": null,
   "id": "d82c020a",
   "metadata": {},
   "outputs": [],
   "source": [
    "def get_key_from_value(dictionary, value):\n",
    "    # function which look for a value and return the proper key for those value\n",
    "    \n",
    "    # this function will be necessery to find a value which will be the answer from respondent and find a key\n",
    "    # in order to add the 1 to the proper column in the dataframe (proper name of the key)\n",
    "    # to know which category was used by the respondent\n",
    "    \n",
    "    \n",
    "    for key, values in dictionary.items():\n",
    "        if value in values:\n",
    "            return key\n",
    "    return None"
   ]
  },
  {
   "cell_type": "code",
   "execution_count": null,
   "id": "52b3d3a5",
   "metadata": {},
   "outputs": [],
   "source": [
    "\n",
    "\n",
    "\n",
    "# creating a loop to add the number 1 when the specific category occured in the respondent's answer\n",
    "for index, row in df_to_modify.iterrows():\n",
    "    if nazwy_badanych[index] != 'nan':\n",
    "        \n",
    "        # we loop for the answer of each respondent\n",
    "        for nazwa in nazwy_badanych[index]:\n",
    "            \n",
    "            # if the answer is in the all the values we then...\n",
    "            if nazwa in wszystkie_wartosci:\n",
    "                # we then take the key from our dictionary of similar names to be able to find this column in dataframe\n",
    "                # because the names of the columns are the keys from that dictionary\n",
    "                nazwa_kolumny = get_key_from_value(dict_of_similar_names,nazwa)\n",
    "                \n",
    "                \n",
    "                # we then add 1 to that column in dataframe because that category has occured in the respondent's answer\n",
    "                # so if the category has occured there is an addition 1 to a specific column which means the category\n",
    "                \n",
    "                # so it finds the concrete value from the respondent's answer and add 1 to a proper category\n",
    "                \n",
    "                print(nazwa_kolumny)\n",
    "                row[nazwa_kolumny] = 1\n",
    "            "
   ]
  },
  {
   "cell_type": "code",
   "execution_count": null,
   "id": "67c9d290",
   "metadata": {},
   "outputs": [],
   "source": [
    "# saving the dataframe which contains the category of the respondent's answers. When the category occured in the answer in the dataframe\n",
    "# the number 1 signify it\n",
    "\n",
    "df_to_modify.to_excel(\"answers_category.xlsx\")"
   ]
  },
  {
   "cell_type": "code",
   "execution_count": null,
   "id": "61e43916",
   "metadata": {},
   "outputs": [],
   "source": []
  },
  {
   "cell_type": "code",
   "execution_count": null,
   "id": "402a1b7f",
   "metadata": {},
   "outputs": [],
   "source": []
  },
  {
   "cell_type": "code",
   "execution_count": null,
   "id": "527f32a1",
   "metadata": {},
   "outputs": [],
   "source": []
  },
  {
   "cell_type": "code",
   "execution_count": null,
   "id": "52e87bad",
   "metadata": {},
   "outputs": [],
   "source": []
  },
  {
   "cell_type": "code",
   "execution_count": null,
   "id": "b372210b",
   "metadata": {},
   "outputs": [],
   "source": []
  }
 ],
 "metadata": {
  "kernelspec": {
   "display_name": "Python 3 (ipykernel)",
   "language": "python",
   "name": "python3"
  },
  "language_info": {
   "codemirror_mode": {
    "name": "ipython",
    "version": 3
   },
   "file_extension": ".py",
   "mimetype": "text/x-python",
   "name": "python",
   "nbconvert_exporter": "python",
   "pygments_lexer": "ipython3",
   "version": "3.9.13"
  }
 },
 "nbformat": 4,
 "nbformat_minor": 5
}
